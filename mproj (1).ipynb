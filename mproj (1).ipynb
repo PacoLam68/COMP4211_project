{
 "cells": [
  {
   "cell_type": "markdown",
   "metadata": {
    "id": "BPbjfnXTiGeJ"
   },
   "source": [
    "## Imports"
   ]
  },
  {
   "cell_type": "code",
   "execution_count": 32,
   "metadata": {
    "id": "h6e6avJXiGeK"
   },
   "outputs": [],
   "source": [
    "import time\n",
    "import os\n",
    "import random\n",
    "import math\n",
    "\n",
    "import torch\n",
    "import torchvision\n",
    "import torch.nn as nn\n",
    "import torch.optim as optim\n",
    "import numpy as np\n",
    "import matplotlib.pyplot as plt\n",
    "from torch.utils.data import Dataset\n",
    "from torch.optim import lr_scheduler\n",
    "from torch.autograd import Variable\n",
    "from torchvision import transforms, models\n",
    "from PIL import Image\n",
    "from sklearn.model_selection import KFold\n",
    "from tqdm.auto import tqdm\n",
    "\n",
    "%matplotlib inline"
   ]
  },
  {
   "cell_type": "markdown",
   "metadata": {
    "id": "Ngin19cKiGeO"
   },
   "source": [
    "## GPU selection (for non Google Colab)\n",
    "Uncomment the following line and change the index of GPU you want to use. \n",
    "Indeces start from '0'. You should only use one GPU for this project.\n"
   ]
  },
  {
   "cell_type": "code",
   "execution_count": 57,
   "metadata": {
    "id": "iRu2-JRpiGeP"
   },
   "outputs": [],
   "source": [
    "os.environ['CUDA_VISIBLE_DEVICES']='0'"
   ]
  },
  {
   "cell_type": "markdown",
   "metadata": {
    "id": "qRAfnPI7iQw_"
   },
   "source": [
    "## Load data (for Google Colab only)\n",
    "If you are using google colab, these codes help you easily load data.\n",
    "\n",
    "**Rememeber to change runtime type to GPU if you are using google colab.**\n",
    "\n",
    "Please store the dataset floder ([data](https://drive.google.com/drive/folders/1_0Doj4SmfqSNSm9CeMqNlagfb4APLQfq?usp=sharing)) to the root of your google drive first.\n",
    "Then uncomment the codes, run them and follow the instruction to mount your google drive."
   ]
  },
  {
   "cell_type": "code",
   "execution_count": 58,
   "metadata": {
    "id": "q9L4GpX-ic_T"
   },
   "outputs": [],
   "source": [
    "# assert os.environ['COLAB_GPU'], 'Make sure to select GPU from Edit > Notebook settings > Hardware accelerator'\n",
    "from google.colab import drive\n",
    " drive.mount('/content/drive')"
   ]
  },
  {
   "cell_type": "markdown",
   "metadata": {
    "id": "KreDT0_6j-F_"
   },
   "source": [
    "Then link the `data` in google drive to `./data`"
   ]
  },
  {
   "cell_type": "code",
   "execution_count": 59,
   "metadata": {
    "id": "edZ7EkhOiym7"
   },
   "outputs": [],
   "source": [
    "!rm -f data\n",
    "!ln -s '/content/drive/My Drive/data' data"
   ]
  },
  {
   "cell_type": "markdown",
   "metadata": {
    "id": "RTGSoFcciGeS"
   },
   "source": [
    "## Some utilities"
   ]
  },
  {
   "cell_type": "code",
   "execution_count": 60,
   "metadata": {
    "id": "8s57eFmMiGeT"
   },
   "outputs": [],
   "source": [
    "def to_2d_tensor(inp):\n",
    "    inp = torch.Tensor(inp)\n",
    "    if len(inp.size()) < 2:\n",
    "        inp = inp.unsqueeze(0)\n",
    "    return inp\n",
    "\n",
    "def box_transform_inv(boxes, im_sizes):\n",
    "    # box in (x, y, w, h) format\n",
    "    boxes = to_2d_tensor(boxes)\n",
    "    im_sizes = to_2d_tensor(im_sizes)\n",
    "    boxes[:, 0] = (boxes[:, 0] + 1) / 2 * im_sizes[:, 0]\n",
    "    boxes[:, 1] = (boxes[:, 1] + 1) / 2 * im_sizes[:, 1]\n",
    "    boxes[:, 2] = boxes[:, 2] / 2 * im_sizes[:, 0]\n",
    "    boxes[:, 3] = boxes[:, 3] / 2 * im_sizes[:, 1]\n",
    "    return boxes\n",
    "\n",
    "def box_transform(boxes, im_sizes):\n",
    "    # box in (x, y, w, h) format\n",
    "    boxes = to_2d_tensor(boxes)\n",
    "    im_sizes = to_2d_tensor(im_sizes)\n",
    "    boxes[:, 0] = 2 * boxes[:, 0] / im_sizes[:, 0] - 1\n",
    "    boxes[:, 1] = 2 * boxes[:, 1] / im_sizes[:, 1] - 1\n",
    "    boxes[:, 2] = 2 * boxes[:, 2] / im_sizes[:, 0]\n",
    "    boxes[:, 3] = 2 * boxes[:, 3] / im_sizes[:, 1]\n",
    "    return boxes\n",
    "\n",
    "def xywh_to_x1y1x2y2(boxes):\n",
    "    boxes = to_2d_tensor(boxes)\n",
    "    boxes[:, 2] += boxes[:, 0] - 1\n",
    "    boxes[:, 3] += boxes[:, 1] - 1\n",
    "    return boxes\n",
    "\n",
    "def x1y1x2y2_to_xywh(boxes):\n",
    "    boxes = to_2d_tensor(boxes)\n",
    "    boxes[:, 2] -= boxes[:, 0] - 1\n",
    "    boxes[:, 3] -= boxes[:, 1] - 1\n",
    "    return boxes\n",
    "\n",
    "def compute_IoU(boxes1, boxes2):\n",
    "    boxes1 = to_2d_tensor(boxes1)\n",
    "    boxes1 = xywh_to_x1y1x2y2(boxes1)\n",
    "    boxes2 = to_2d_tensor(boxes2)\n",
    "    boxes2 = xywh_to_x1y1x2y2(boxes2)\n",
    "    \n",
    "    intersec = boxes1.clone()\n",
    "    intersec[:, 0] = torch.max(boxes1[:, 0], boxes2[:, 0])\n",
    "    intersec[:, 1] = torch.max(boxes1[:, 1], boxes2[:, 1])\n",
    "    intersec[:, 2] = torch.min(boxes1[:, 2], boxes2[:, 2])\n",
    "    intersec[:, 3] = torch.min(boxes1[:, 3], boxes2[:, 3])\n",
    "    \n",
    "    def compute_area(boxes):\n",
    "        # in (x1, y1, x2, y2) format\n",
    "        dx = boxes[:, 2] - boxes[:, 0]\n",
    "        dx[dx < 0] = 0\n",
    "        dy = boxes[:, 3] - boxes[:, 1]\n",
    "        dy[dy < 0] = 0\n",
    "        return dx * dy\n",
    "    \n",
    "    a1 = compute_area(boxes1)\n",
    "    a2 = compute_area(boxes2)\n",
    "    ia = compute_area(intersec)\n",
    "    assert((a1 + a2 - ia <= 0).sum() == 0)\n",
    "    \n",
    "    return ia / (a1 + a2 - ia)    \n",
    "\n",
    "def compute_acc(preds, targets, theta=0.75):\n",
    "    IoU = compute_IoU(preds.clone(), targets.clone())\n",
    "    corr = (IoU >= theta).sum()\n",
    "    return corr.item() / preds.size(0)\n",
    "\n",
    "class AverageMeter(object):\n",
    "    def __init__(self):\n",
    "        self.reset()\n",
    "        \n",
    "    def reset(self):\n",
    "        self.val = 0\n",
    "        self.avg = 0\n",
    "        self.sum = 0\n",
    "        self.cnt = 0\n",
    "        \n",
    "    def update(self, val, n=1):\n",
    "        self.val = val\n",
    "        self.sum += val * n\n",
    "        self.cnt += n\n",
    "        self.avg = self.sum / self.cnt\n",
    "        \n",
    "def box_to_mask(box, im_size):\n",
    "    mask = np.zeros(im_size)\n",
    "    co = xywh_to_x1y1x2y2(box)[0].type(torch.int64)\n",
    "    mask[co[0]: co[2], co[1]: co[3]] = 1\n",
    "    return Image.fromarray(np.uint8(mask*255).T)\n",
    "\n",
    "def mask_to_box(mask):\n",
    "    mask = torch.nonzero(mask[0, :, :].T != 0, as_tuple=False)\n",
    "    x1, y1 = torch.min(mask, dim=0).values\n",
    "    x2, y2 = torch.max(mask, dim=0).values\n",
    "    return x1y1x2y2_to_xywh([x1, y1, x2, y2])[0]\n",
    "    "
   ]
  },
  {
   "cell_type": "markdown",
   "metadata": {
    "id": "UtNvELBliGeW"
   },
   "source": [
    "## Split dataset"
   ]
  },
  {
   "cell_type": "code",
   "execution_count": 61,
   "metadata": {
    "id": "m2b9idfMiGeX"
   },
   "outputs": [],
   "source": [
    "def split(ratio):\n",
    "    with open('data/train_test_split.txt') as f:\n",
    "        lines = f.read().splitlines()\n",
    "    class_groups = dict()\n",
    "    train_id, test_id = [], []\n",
    "    for line in lines:\n",
    "        key, is_train = line.split(' ')\n",
    "        if is_train == '1':\n",
    "            train_id.append(key)\n",
    "        else:\n",
    "            test_id.append(key)\n",
    "    with open('data/images.txt') as f:\n",
    "        lines = f.read().splitlines()\n",
    "    for line in lines:\n",
    "        value, line = line.split(' ', 1)\n",
    "        key = line.split('.', 1)[0]\n",
    "        if value not in train_id:\n",
    "            continue\n",
    "        if key in class_groups:\n",
    "            class_groups[key].append(value)\n",
    "        else:\n",
    "            class_groups[key] = [value]\n",
    "    val_id = []\n",
    "    for _, group in class_groups.items():\n",
    "        val_id.extend(random.sample(group, int(math.ceil(len(group)*ratio))))\n",
    "    train_id = [i for i in train_id if i not in val_id]\n",
    "    return np.array(train_id), np.array(test_id), np.array(val_id)"
   ]
  },
  {
   "cell_type": "markdown",
   "metadata": {
    "id": "cGsg8ef4iGeZ"
   },
   "source": [
    "## Define Dataset"
   ]
  },
  {
   "cell_type": "code",
   "execution_count": 62,
   "metadata": {
    "id": "WCX7P7iCiGea"
   },
   "outputs": [],
   "source": [
    "class CUBDataset(Dataset):\n",
    "    def __init__(self, im_ids, transform=None):\n",
    "        with open('data/images.txt') as f:\n",
    "            id_to_path = dict([l.split(' ', 1) for l in f.read().splitlines()])\n",
    "        with open('data/bounding_boxes.txt') as f:\n",
    "            id_to_box = dict()\n",
    "            for line in f.read().splitlines():\n",
    "                im_id, *box = line.split(' ')\n",
    "                id_to_box[im_id] = list(map(float, box))\n",
    "        self.imgs = [(os.path.join('data/images', id_to_path[i]), id_to_box[i])\n",
    "                     for i in im_ids]\n",
    "        self.target_transform = transforms.Compose([\n",
    "            transforms.Resize((224, 224)),\n",
    "            transforms.ToTensor()\n",
    "        ])\n",
    "        self.transform = transforms.Compose([\n",
    "            self.target_transform,\n",
    "            transforms.Normalize([0.485, 0.456, 0.406], [0.229, 0.224, 0.225])\n",
    "        ])\n",
    "        if transform is not None:\n",
    "            self.transform = transforms.Compose([\n",
    "                transform,\n",
    "                self.transform\n",
    "            ])\n",
    "            self.target_transform = transforms.Compose([\n",
    "                transform,\n",
    "                self.target_transform\n",
    "            ])\n",
    "            \n",
    "    def __getitem__(self, index):\n",
    "        path, box = self.imgs[index]\n",
    "        im = Image.open(path).convert('RGB')\n",
    "        im_size = np.array(im.size, dtype='float32')\n",
    "        box = np.array(box, dtype='float32')\n",
    "        \n",
    "        mask = box_to_mask(box, im.size)\n",
    "        \n",
    "        seed = np.random.randint(2147483647)\n",
    "        random.seed(seed)\n",
    "        torch.manual_seed(seed)\n",
    "        im = self.transform(im)\n",
    "        \n",
    "        random.seed(seed)\n",
    "        torch.manual_seed(seed)\n",
    "        mask = self.target_transform(mask)\n",
    "        \n",
    "        box = mask_to_box(mask).numpy()\n",
    "\n",
    "        seed = np.random.randint(2147483647)\n",
    "        random.seed(seed)\n",
    "        torch.manual_seed(seed)\n",
    "        \n",
    "        return im, box\n",
    "    \n",
    "    def __len__(self):\n",
    "        return len(self.imgs)\n",
    "    "
   ]
  },
  {
   "cell_type": "markdown",
   "metadata": {
    "id": "IgI3cNtEiGec"
   },
   "source": [
    "### Visualize training data"
   ]
  },
  {
   "cell_type": "code",
   "execution_count": 63,
   "metadata": {
    "id": "SajqlTjTiGed"
   },
   "outputs": [],
   "source": [
    "def imshow(img, gt_box, pred_box=None):\n",
    "    plt.imshow(img)\n",
    "    \n",
    "    def draw_box(box, color='red'):\n",
    "        x, y, w, h = box\n",
    "        if x == 0:\n",
    "            x = 1\n",
    "        if y == 0:\n",
    "            y = 1\n",
    "        plt.gca().add_patch(\n",
    "            plt.Rectangle((x, y), w, h,\n",
    "                          fill=False, edgecolor=color, linewidth=2, alpha=0.5)\n",
    "        )\n",
    "        \n",
    "    draw_box(gt_box)\n",
    "    if pred_box is not None:\n",
    "        draw_box(pred_box, 'blue')\n",
    "    plt.plot()"
   ]
  },
  {
   "cell_type": "code",
   "execution_count": 64,
   "metadata": {
    "id": "LuN-T8a6iGeg",
    "scrolled": false
   },
   "outputs": [
    {
     "data": {
      "image/png": "[encoded data removed]",
      "text/plain": [
       "<Figure size 432x288 with 1 Axes>"
      ]
     },
     "metadata": {
      "needs_background": "light"
     },
     "output_type": "display_data"
    }
   ],
   "source": [
    "dataset = CUBDataset(['2'])\n",
    "im, box = dataset[0]\n",
    "\n",
    "inp = im.numpy().transpose((1, 2, 0))\n",
    "mean = np.array([0.485, 0.456, 0.406])\n",
    "std = np.array([0.229, 0.224, 0.225])\n",
    "inp = std * inp + mean\n",
    "inp = np.clip(inp, 0, 1)\n",
    "\n",
    "imshow(inp, box)"
   ]
  },
  {
   "cell_type": "markdown",
   "metadata": {
    "id": "oJ3cP0sNiGem"
   },
   "source": [
    "### Visualize result of output\n",
    "If you need, this function can help you compare the result of your model and the ground truth."
   ]
  },
  {
   "cell_type": "code",
   "execution_count": 65,
   "metadata": {
    "id": "vOB24h1SiGen"
   },
   "outputs": [],
   "source": [
    "def visualize_model(model, datasets):\n",
    "    model = model.cpu()\n",
    "    ind = random.choice(range(len(datasets['test'])))\n",
    "    im, box = datasets['test'][ind]\n",
    "    path, _ = datasets['test'].imgs[ind]\n",
    "\n",
    "    pred_box = model(Variable(im.unsqueeze(0))).data[0]\n",
    "\n",
    "    ori_im = Image.open(path)\n",
    "\n",
    "    inp = im.numpy().transpose((1, 2, 0))\n",
    "    mean = np.array([0.485, 0.456, 0.406])\n",
    "    std = np.array([0.229, 0.224, 0.225])\n",
    "    inp = std * inp + mean\n",
    "    inp = np.clip(inp, 0, 1)\n",
    "    box = box_transform_inv(box_transform(box, inp.shape[:2][::-1]), ori_im.size)[0]\n",
    "    pred_box = box_transform_inv(box_transform(pred_box, inp.shape[:2][::-1]), ori_im.size)[0]\n",
    "    imshow(ori_im, box, pred_box)"
   ]
  },
  {
   "cell_type": "code",
   "execution_count": 66,
   "metadata": {
    "id": "7AkPIRL3iGeq",
    "scrolled": false
   },
   "outputs": [],
   "source": [
    "def plot(epoch_loss, epoch_acc):\n",
    "    fig, (ax1, ax2) = plt.subplots(1, 2, figsize=(16,9))\n",
    "    ax1.set_yscale('log')\n",
    "    for phase in ('train', 'test'):\n",
    "        ax1.plot(range(len(epoch_loss[phase])), epoch_loss[phase], label=(phase + '_loss'))\n",
    "        ax2.plot(range(len(epoch_acc[phase])), epoch_acc[phase], label=(phase + '_acc'))\n",
    "    ax1.legend(prop={'size': 15})\n",
    "    ax2.legend(prop={'size': 15})"
   ]
  },
  {
   "cell_type": "markdown",
   "metadata": {
    "id": "tj5ptL43iGet"
   },
   "source": [
    "### Training Function"
   ]
  },
  {
   "cell_type": "code",
   "execution_count": 67,
   "metadata": {
    "id": "x7AVZsvHiGeu",
    "scrolled": false
   },
   "outputs": [],
   "source": [
    "def train(model, dataloaders, optimizer, save_name=None, quite=False):\n",
    "    # prepare data\n",
    "    # construct model\n",
    "    model = model.cuda()\n",
    "\n",
    "    scheduler = lr_scheduler.StepLR(optimizer, step_size=5, gamma=0.1)\n",
    "\n",
    "    best_model_state = model.state_dict()\n",
    "    best_epoch = -1\n",
    "    best_acc = 0.0\n",
    "\n",
    "    epoch_loss = {'train': [], 'test': [], 'val': []}\n",
    "    epoch_acc = {'train': [], 'test': [], 'val': []}\n",
    "    epochs = 20\n",
    "    for epoch in range(epochs):\n",
    "        accs = AverageMeter()\n",
    "        losses = AverageMeter()\n",
    "        for phase in dataloaders.keys():\n",
    "            if phase == 'train':\n",
    "                model.train(True)\n",
    "            else:\n",
    "                model.train(False)\n",
    "\n",
    "            end = time.time()\n",
    "            for ims, boxes in tqdm(dataloaders[phase], desc=f'[{phase} {epoch+1}/{epochs}]', leave=False):\n",
    "                inputs = Variable(ims.cuda())\n",
    "                targets = Variable(boxes.cuda())\n",
    "                \n",
    "                loss, outputs = do_one_step(model, inputs, targets, optimizer, phase)\n",
    "                \n",
    "                acc = compute_acc(outputs.data.cpu(), targets.data.cpu())\n",
    "\n",
    "                nsample = inputs.size(0)\n",
    "                accs.update(acc, nsample)\n",
    "                losses.update(loss.item(), nsample)\n",
    "\n",
    "            if phase == 'val' and accs.avg > best_acc:\n",
    "                best_acc = accs.avg\n",
    "                best_epoch = epoch\n",
    "                best_model_state = model.state_dict()\n",
    "            elif phase == 'train':\n",
    "                scheduler.step()\n",
    "            elapsed_time = time.time() - end\n",
    "            if not quite:\n",
    "                print(f'[{phase}]\\tEpoch: {epoch+1}/{epochs}'+\n",
    "                    f'\\tLoss: {losses.avg:.4f}\\tAcc: {accs.avg:.2%}\\tTime: {elapsed_time:.3f}')\n",
    "            epoch_loss[phase].append(losses.avg)\n",
    "            epoch_acc[phase].append(accs.avg)\n",
    "\n",
    "    print(f'[Info] best val acc: {best_acc:.2%} at {best_epoch+1}th epoch')\n",
    "    if save_name is not None:\n",
    "        torch.save(best_model_state, save_name)\n",
    "        print(f'[Info] best model saved to {save_name}')\n",
    "    return epoch_loss, epoch_acc"
   ]
  },
  {
   "cell_type": "markdown",
   "metadata": {
    "id": "P9Yu6iF3iGex"
   },
   "source": [
    "## Task1\n",
    "In this task, you are required to load ImageNet-pretrained `ResNet-18` and modify the fully connected layer to output the bounding box."
   ]
  },
  {
   "cell_type": "code",
   "execution_count": 68,
   "metadata": {
    "id": "pb80UQcliGey"
   },
   "outputs": [],
   "source": [
    "def get_model():\n",
    "    model = models.resnet18(pretrained=True)\n",
    "    ### TODO: modify model here\n",
    "    model.fc = torch.nn.Linear(512, 4)\n",
    "    \n",
    "    return model"
   ]
  },
  {
   "cell_type": "code",
   "execution_count": 69,
   "metadata": {},
   "outputs": [
    {
     "name": "stdout",
     "output_type": "stream",
     "text": [
      "ResNet(\n",
      "  (conv1): Conv2d(3, 64, kernel_size=(7, 7), stride=(2, 2), padding=(3, 3), bias=False)\n",
      "  (bn1): BatchNorm2d(64, eps=1e-05, momentum=0.1, affine=True, track_running_stats=True)\n",
      "  (relu): ReLU(inplace=True)\n",
      "  (maxpool): MaxPool2d(kernel_size=3, stride=2, padding=1, dilation=1, ceil_mode=False)\n",
      "  (layer1): Sequential(\n",
      "    (0): BasicBlock(\n",
      "      (conv1): Conv2d(64, 64, kernel_size=(3, 3), stride=(1, 1), padding=(1, 1), bias=False)\n",
      "      (bn1): BatchNorm2d(64, eps=1e-05, momentum=0.1, affine=True, track_running_stats=True)\n",
      "      (relu): ReLU(inplace=True)\n",
      "      (conv2): Conv2d(64, 64, kernel_size=(3, 3), stride=(1, 1), padding=(1, 1), bias=False)\n",
      "      (bn2): BatchNorm2d(64, eps=1e-05, momentum=0.1, affine=True, track_running_stats=True)\n",
      "    )\n",
      "    (1): BasicBlock(\n",
      "      (conv1): Conv2d(64, 64, kernel_size=(3, 3), stride=(1, 1), padding=(1, 1), bias=False)\n",
      "      (bn1): BatchNorm2d(64, eps=1e-05, momentum=0.1, affine=True, track_running_stats=True)\n",
      "      (relu): ReLU(inplace=True)\n",
      "      (conv2): Conv2d(64, 64, kernel_size=(3, 3), stride=(1, 1), padding=(1, 1), bias=False)\n",
      "      (bn2): BatchNorm2d(64, eps=1e-05, momentum=0.1, affine=True, track_running_stats=True)\n",
      "    )\n",
      "  )\n",
      "  (layer2): Sequential(\n",
      "    (0): BasicBlock(\n",
      "      (conv1): Conv2d(64, 128, kernel_size=(3, 3), stride=(2, 2), padding=(1, 1), bias=False)\n",
      "      (bn1): BatchNorm2d(128, eps=1e-05, momentum=0.1, affine=True, track_running_stats=True)\n",
      "      (relu): ReLU(inplace=True)\n",
      "      (conv2): Conv2d(128, 128, kernel_size=(3, 3), stride=(1, 1), padding=(1, 1), bias=False)\n",
      "      (bn2): BatchNorm2d(128, eps=1e-05, momentum=0.1, affine=True, track_running_stats=True)\n",
      "      (downsample): Sequential(\n",
      "        (0): Conv2d(64, 128, kernel_size=(1, 1), stride=(2, 2), bias=False)\n",
      "        (1): BatchNorm2d(128, eps=1e-05, momentum=0.1, affine=True, track_running_stats=True)\n",
      "      )\n",
      "    )\n",
      "    (1): BasicBlock(\n",
      "      (conv1): Conv2d(128, 128, kernel_size=(3, 3), stride=(1, 1), padding=(1, 1), bias=False)\n",
      "      (bn1): BatchNorm2d(128, eps=1e-05, momentum=0.1, affine=True, track_running_stats=True)\n",
      "      (relu): ReLU(inplace=True)\n",
      "      (conv2): Conv2d(128, 128, kernel_size=(3, 3), stride=(1, 1), padding=(1, 1), bias=False)\n",
      "      (bn2): BatchNorm2d(128, eps=1e-05, momentum=0.1, affine=True, track_running_stats=True)\n",
      "    )\n",
      "  )\n",
      "  (layer3): Sequential(\n",
      "    (0): BasicBlock(\n",
      "      (conv1): Conv2d(128, 256, kernel_size=(3, 3), stride=(2, 2), padding=(1, 1), bias=False)\n",
      "      (bn1): BatchNorm2d(256, eps=1e-05, momentum=0.1, affine=True, track_running_stats=True)\n",
      "      (relu): ReLU(inplace=True)\n",
      "      (conv2): Conv2d(256, 256, kernel_size=(3, 3), stride=(1, 1), padding=(1, 1), bias=False)\n",
      "      (bn2): BatchNorm2d(256, eps=1e-05, momentum=0.1, affine=True, track_running_stats=True)\n",
      "      (downsample): Sequential(\n",
      "        (0): Conv2d(128, 256, kernel_size=(1, 1), stride=(2, 2), bias=False)\n",
      "        (1): BatchNorm2d(256, eps=1e-05, momentum=0.1, affine=True, track_running_stats=True)\n",
      "      )\n",
      "    )\n",
      "    (1): BasicBlock(\n",
      "      (conv1): Conv2d(256, 256, kernel_size=(3, 3), stride=(1, 1), padding=(1, 1), bias=False)\n",
      "      (bn1): BatchNorm2d(256, eps=1e-05, momentum=0.1, affine=True, track_running_stats=True)\n",
      "      (relu): ReLU(inplace=True)\n",
      "      (conv2): Conv2d(256, 256, kernel_size=(3, 3), stride=(1, 1), padding=(1, 1), bias=False)\n",
      "      (bn2): BatchNorm2d(256, eps=1e-05, momentum=0.1, affine=True, track_running_stats=True)\n",
      "    )\n",
      "  )\n",
      "  (layer4): Sequential(\n",
      "    (0): BasicBlock(\n",
      "      (conv1): Conv2d(256, 512, kernel_size=(3, 3), stride=(2, 2), padding=(1, 1), bias=False)\n",
      "      (bn1): BatchNorm2d(512, eps=1e-05, momentum=0.1, affine=True, track_running_stats=True)\n",
      "      (relu): ReLU(inplace=True)\n",
      "      (conv2): Conv2d(512, 512, kernel_size=(3, 3), stride=(1, 1), padding=(1, 1), bias=False)\n",
      "      (bn2): BatchNorm2d(512, eps=1e-05, momentum=0.1, affine=True, track_running_stats=True)\n",
      "      (downsample): Sequential(\n",
      "        (0): Conv2d(256, 512, kernel_size=(1, 1), stride=(2, 2), bias=False)\n",
      "        (1): BatchNorm2d(512, eps=1e-05, momentum=0.1, affine=True, track_running_stats=True)\n",
      "      )\n",
      "    )\n",
      "    (1): BasicBlock(\n",
      "      (conv1): Conv2d(512, 512, kernel_size=(3, 3), stride=(1, 1), padding=(1, 1), bias=False)\n",
      "      (bn1): BatchNorm2d(512, eps=1e-05, momentum=0.1, affine=True, track_running_stats=True)\n",
      "      (relu): ReLU(inplace=True)\n",
      "      (conv2): Conv2d(512, 512, kernel_size=(3, 3), stride=(1, 1), padding=(1, 1), bias=False)\n",
      "      (bn2): BatchNorm2d(512, eps=1e-05, momentum=0.1, affine=True, track_running_stats=True)\n",
      "    )\n",
      "  )\n",
      "  (avgpool): AdaptiveAvgPool2d(output_size=(1, 1))\n",
      "  (fc): Linear(in_features=512, out_features=4, bias=True)\n",
      ")\n"
     ]
    }
   ],
   "source": [
    "### print the model\n",
    "print(get_model())"
   ]
  },
  {
   "cell_type": "markdown",
   "metadata": {
    "id": "hZsqKox2iGe1"
   },
   "source": [
    "## Task2\n",
    "\n",
    "In this task, you are required to define the `huber` loss function. It's defined as:\n",
    "$$\\mathcal{L}(\\mathbf{a}, \\mathbf{b}) = \\frac{1}{n}\\sum_{i=1}^n\\begin{cases}0.5(a_i-b_i)^2 & \\text{if } |a_i-b_i|<1\\\\|a_i-b_i|-0.5 & \\text{otherwise}\\end{cases}$$\n",
    "\n",
    "Input parameters of the function may have different shapes, but you can view inputs as two vectors.\n",
    "\n",
    "Please notice that you _SHAN'T_ use for loop in python."
   ]
  },
  {
   "cell_type": "code",
   "execution_count": 70,
   "metadata": {
    "id": "Hf-vf5IsiGe1"
   },
   "outputs": [],
   "source": [
    "def huber(a, b):\n",
    "    ### TODO: implment smooth l1 loss here\n",
    "    loss_m = nn.SmoothL1Loss(size_average=None, reduce=None)\n",
    "    loss = loss_m(a,b)\n",
    "    #a = to_2d_tensor(a)\n",
    "    #b = to_2d_tensor(b)\n",
    "    #e = abs(a - b)\n",
    "    #loss = (0.5*((a-b)) ** 2)[e < 1].sum()\n",
    "    #loss += (e - 0.5)[e >= 1].sum()\n",
    "    #loss /= a.size(0)\n",
    "    return loss"
   ]
  },
  {
   "cell_type": "markdown",
   "metadata": {
    "id": "Zdw1CzmeiGe5"
   },
   "source": [
    "Please test your `huber` here to ensure it works properly. You can try different `a` and `b` with different shapes."
   ]
  },
  {
   "cell_type": "code",
   "execution_count": 71,
   "metadata": {},
   "outputs": [
    {
     "data": {
      "text/plain": [
       "tensor(0.0625)"
      ]
     },
     "execution_count": 71,
     "metadata": {},
     "output_type": "execute_result"
    }
   ],
   "source": [
    "huber(torch.tensor([1, 2]), torch.tensor([1, 2.5]))"
   ]
  },
  {
   "cell_type": "code",
   "execution_count": 72,
   "metadata": {
    "id": "kVmJYBY1iGe6"
   },
   "outputs": [
    {
     "ename": "AssertionError",
     "evalue": "",
     "output_type": "error",
     "traceback": [
      "\u001b[0;31m---------------------------------------------------------------------------\u001b[0m",
      "\u001b[0;31mAssertionError\u001b[0m                            Traceback (most recent call last)",
      "\u001b[0;32m<ipython-input-72-130ab1f99064>\u001b[0m in \u001b[0;36m<module>\u001b[0;34m\u001b[0m\n\u001b[1;32m      2\u001b[0m \u001b[0;32massert\u001b[0m \u001b[0mtorch\u001b[0m\u001b[0;34m.\u001b[0m\u001b[0mequal\u001b[0m\u001b[0;34m(\u001b[0m\u001b[0mhuber\u001b[0m\u001b[0;34m(\u001b[0m\u001b[0mtorch\u001b[0m\u001b[0;34m.\u001b[0m\u001b[0mtensor\u001b[0m\u001b[0;34m(\u001b[0m\u001b[0;34m[\u001b[0m\u001b[0;36m1\u001b[0m\u001b[0;34m,\u001b[0m \u001b[0;36m2\u001b[0m\u001b[0;34m]\u001b[0m\u001b[0;34m)\u001b[0m\u001b[0;34m,\u001b[0m \u001b[0mtorch\u001b[0m\u001b[0;34m.\u001b[0m\u001b[0mtensor\u001b[0m\u001b[0;34m(\u001b[0m\u001b[0;34m[\u001b[0m\u001b[0;36m1\u001b[0m\u001b[0;34m,\u001b[0m \u001b[0;36m2.5\u001b[0m\u001b[0;34m]\u001b[0m\u001b[0;34m)\u001b[0m\u001b[0;34m)\u001b[0m\u001b[0;34m,\u001b[0m \u001b[0mtorch\u001b[0m\u001b[0;34m.\u001b[0m\u001b[0mtensor\u001b[0m\u001b[0;34m(\u001b[0m\u001b[0;36m0.0625\u001b[0m\u001b[0;34m)\u001b[0m\u001b[0;34m)\u001b[0m\u001b[0;34m\u001b[0m\u001b[0;34m\u001b[0m\u001b[0m\n\u001b[1;32m      3\u001b[0m \u001b[0;31m### TODO: more assert check here...\u001b[0m\u001b[0;34m\u001b[0m\u001b[0;34m\u001b[0m\u001b[0;34m\u001b[0m\u001b[0m\n\u001b[0;32m----> 4\u001b[0;31m \u001b[0;32massert\u001b[0m \u001b[0mtorch\u001b[0m\u001b[0;34m.\u001b[0m\u001b[0mequal\u001b[0m\u001b[0;34m(\u001b[0m\u001b[0mhuber\u001b[0m\u001b[0;34m(\u001b[0m\u001b[0mtorch\u001b[0m\u001b[0;34m.\u001b[0m\u001b[0mtensor\u001b[0m\u001b[0;34m(\u001b[0m\u001b[0;34m[\u001b[0m\u001b[0;36m1\u001b[0m\u001b[0;34m,\u001b[0m \u001b[0;36m2\u001b[0m\u001b[0;34m]\u001b[0m\u001b[0;34m)\u001b[0m\u001b[0;34m,\u001b[0m \u001b[0mtorch\u001b[0m\u001b[0;34m.\u001b[0m\u001b[0mtensor\u001b[0m\u001b[0;34m(\u001b[0m\u001b[0;34m[\u001b[0m\u001b[0;36m1\u001b[0m\u001b[0;34m,\u001b[0m \u001b[0;36m2.5\u001b[0m\u001b[0;34m]\u001b[0m\u001b[0;34m)\u001b[0m\u001b[0;34m)\u001b[0m\u001b[0;34m,\u001b[0m \u001b[0mtorch\u001b[0m\u001b[0;34m.\u001b[0m\u001b[0mtensor\u001b[0m\u001b[0;34m(\u001b[0m\u001b[0;36m0.0417\u001b[0m\u001b[0;34m)\u001b[0m\u001b[0;34m)\u001b[0m\u001b[0;34m\u001b[0m\u001b[0;34m\u001b[0m\u001b[0m\n\u001b[0m",
      "\u001b[0;31mAssertionError\u001b[0m: "
     ]
    }
   ],
   "source": [
    "### Test huber here.\n",
    "assert torch.equal(huber(torch.tensor([1, 2]), torch.tensor([1, 2.5])), torch.tensor(0.0625))\n",
    "### TODO: more assert check here...\n",
    "assert torch.equal(huber(torch.tensor([1, 2]), torch.tensor([1, 2.5])), torch.tensor(0.0417))\n"
   ]
  },
  {
   "cell_type": "markdown",
   "metadata": {
    "id": "x71bwqAoiGe9"
   },
   "source": [
    "### Summary\n",
    "_Write your report here_"
   ]
  },
  {
   "cell_type": "markdown",
   "metadata": {
    "id": "MauIxfYyiGe9"
   },
   "source": [
    "## Task3\n",
    "\n",
    "In this task, you are required to define the `do_one_step` function and simply train the model you modified on CUB dataset. This function will be called in the pre-defined `train` function."
   ]
  },
  {
   "cell_type": "markdown",
   "metadata": {
    "id": "8x7yXWlviGe-"
   },
   "source": [
    "Define your `do_one_step` function here. In this function, please use your `huber` function here.\n",
    "\n",
    "Parameters are:\n",
    "- `model`: the model\n",
    "- `inputs`: a batch of images as inputs\n",
    "- `targets`: a batch of labels as targets (ground truth)\n",
    "- `optimizer`: the algorithm to optimize the model\n",
    "- `phase`: `train` or `test` or `val`\n",
    "\n",
    "Returns are:\n",
    "- `loss`: the loss of the batch\n",
    "- `outputs`: the outputs of the model\n",
    "\n",
    "Notice that you ONLY have to update the model in `train` phase. But you have to always output the `loss` and `outputs`."
   ]
  },
  {
   "cell_type": "code",
   "execution_count": 75,
   "metadata": {
    "id": "BvhmQAhJiGe_"
   },
   "outputs": [],
   "source": [
    "def do_one_step(model, inputs, targets, optimizer, phase):\n",
    "    ### TODO\n",
    "    optimizer.zero_grad()\n",
    "    \n",
    "    outputs = model(inputs)\n",
    "    loss = huber(outputs, targets)\n",
    "    loss.backward()\n",
    "    \n",
    "    optimizer.step()\n",
    "    return loss, outputs"
   ]
  },
  {
   "cell_type": "markdown",
   "metadata": {
    "id": "J0dGGnowiGfB"
   },
   "source": [
    "Then you can try to train the model based on your `do_one_step` function.\n",
    "\n",
    "Please use `SGD` with `momentum=0.9` and `learing rate=0.001` as the optmizer. (The rest tasks also use the same configuration)"
   ]
  },
  {
   "cell_type": "code",
   "execution_count": 76,
   "metadata": {
    "id": "bnpWpULgiGfC"
   },
   "outputs": [
    {
     "ename": "AssertionError",
     "evalue": "Torch not compiled with CUDA enabled",
     "output_type": "error",
     "traceback": [
      "\u001b[0;31m---------------------------------------------------------------------------\u001b[0m",
      "\u001b[0;31mAssertionError\u001b[0m                            Traceback (most recent call last)",
      "\u001b[0;32m<ipython-input-76-24a01440157a>\u001b[0m in \u001b[0;36m<module>\u001b[0;34m\u001b[0m\n\u001b[1;32m     16\u001b[0m \u001b[0;34m\u001b[0m\u001b[0m\n\u001b[1;32m     17\u001b[0m \u001b[0;31m### weights are automatically saved after training\u001b[0m\u001b[0;34m\u001b[0m\u001b[0;34m\u001b[0m\u001b[0;34m\u001b[0m\u001b[0m\n\u001b[0;32m---> 18\u001b[0;31m \u001b[0mpure_epoch_loss\u001b[0m\u001b[0;34m,\u001b[0m \u001b[0mpure_epoch_acc\u001b[0m \u001b[0;34m=\u001b[0m \u001b[0mtrain\u001b[0m\u001b[0;34m(\u001b[0m\u001b[0mmodel\u001b[0m\u001b[0;34m,\u001b[0m \u001b[0mdataloaders\u001b[0m\u001b[0;34m,\u001b[0m \u001b[0moptimizer\u001b[0m\u001b[0;34m,\u001b[0m \u001b[0;34m'pure.tar'\u001b[0m\u001b[0;34m)\u001b[0m\u001b[0;34m\u001b[0m\u001b[0;34m\u001b[0m\u001b[0m\n\u001b[0m\u001b[1;32m     19\u001b[0m \u001b[0mnp\u001b[0m\u001b[0;34m.\u001b[0m\u001b[0msavez\u001b[0m\u001b[0;34m(\u001b[0m\u001b[0;34m'pure.npz'\u001b[0m\u001b[0;34m,\u001b[0m \u001b[0mepoch_loss\u001b[0m\u001b[0;34m=\u001b[0m\u001b[0mpure_epoch_loss\u001b[0m\u001b[0;34m,\u001b[0m \u001b[0mepoch_acc\u001b[0m\u001b[0;34m=\u001b[0m\u001b[0mpure_epoch_acc\u001b[0m\u001b[0;34m)\u001b[0m\u001b[0;34m\u001b[0m\u001b[0;34m\u001b[0m\u001b[0m\n",
      "\u001b[0;32m<ipython-input-67-0e34ebab09a9>\u001b[0m in \u001b[0;36mtrain\u001b[0;34m(model, dataloaders, optimizer, save_name, quite)\u001b[0m\n\u001b[1;32m      2\u001b[0m     \u001b[0;31m# prepare data\u001b[0m\u001b[0;34m\u001b[0m\u001b[0;34m\u001b[0m\u001b[0;34m\u001b[0m\u001b[0m\n\u001b[1;32m      3\u001b[0m     \u001b[0;31m# construct model\u001b[0m\u001b[0;34m\u001b[0m\u001b[0;34m\u001b[0m\u001b[0;34m\u001b[0m\u001b[0m\n\u001b[0;32m----> 4\u001b[0;31m     \u001b[0mmodel\u001b[0m \u001b[0;34m=\u001b[0m \u001b[0mmodel\u001b[0m\u001b[0;34m.\u001b[0m\u001b[0mcuda\u001b[0m\u001b[0;34m(\u001b[0m\u001b[0;34m)\u001b[0m\u001b[0;34m\u001b[0m\u001b[0;34m\u001b[0m\u001b[0m\n\u001b[0m\u001b[1;32m      5\u001b[0m \u001b[0;34m\u001b[0m\u001b[0m\n\u001b[1;32m      6\u001b[0m     \u001b[0mscheduler\u001b[0m \u001b[0;34m=\u001b[0m \u001b[0mlr_scheduler\u001b[0m\u001b[0;34m.\u001b[0m\u001b[0mStepLR\u001b[0m\u001b[0;34m(\u001b[0m\u001b[0moptimizer\u001b[0m\u001b[0;34m,\u001b[0m \u001b[0mstep_size\u001b[0m\u001b[0;34m=\u001b[0m\u001b[0;36m5\u001b[0m\u001b[0;34m,\u001b[0m \u001b[0mgamma\u001b[0m\u001b[0;34m=\u001b[0m\u001b[0;36m0.1\u001b[0m\u001b[0;34m)\u001b[0m\u001b[0;34m\u001b[0m\u001b[0;34m\u001b[0m\u001b[0m\n",
      "\u001b[0;32m~/opt/anaconda3/lib/python3.7/site-packages/torch/nn/modules/module.py\u001b[0m in \u001b[0;36mcuda\u001b[0;34m(self, device)\u001b[0m\n\u001b[1;32m    456\u001b[0m             \u001b[0mModule\u001b[0m\u001b[0;34m:\u001b[0m \u001b[0mself\u001b[0m\u001b[0;34m\u001b[0m\u001b[0;34m\u001b[0m\u001b[0m\n\u001b[1;32m    457\u001b[0m         \"\"\"\n\u001b[0;32m--> 458\u001b[0;31m         \u001b[0;32mreturn\u001b[0m \u001b[0mself\u001b[0m\u001b[0;34m.\u001b[0m\u001b[0m_apply\u001b[0m\u001b[0;34m(\u001b[0m\u001b[0;32mlambda\u001b[0m \u001b[0mt\u001b[0m\u001b[0;34m:\u001b[0m \u001b[0mt\u001b[0m\u001b[0;34m.\u001b[0m\u001b[0mcuda\u001b[0m\u001b[0;34m(\u001b[0m\u001b[0mdevice\u001b[0m\u001b[0;34m)\u001b[0m\u001b[0;34m)\u001b[0m\u001b[0;34m\u001b[0m\u001b[0;34m\u001b[0m\u001b[0m\n\u001b[0m\u001b[1;32m    459\u001b[0m \u001b[0;34m\u001b[0m\u001b[0m\n\u001b[1;32m    460\u001b[0m     \u001b[0;32mdef\u001b[0m \u001b[0mcpu\u001b[0m\u001b[0;34m(\u001b[0m\u001b[0mself\u001b[0m\u001b[0;34m:\u001b[0m \u001b[0mT\u001b[0m\u001b[0;34m)\u001b[0m \u001b[0;34m->\u001b[0m \u001b[0mT\u001b[0m\u001b[0;34m:\u001b[0m\u001b[0;34m\u001b[0m\u001b[0;34m\u001b[0m\u001b[0m\n",
      "\u001b[0;32m~/opt/anaconda3/lib/python3.7/site-packages/torch/nn/modules/module.py\u001b[0m in \u001b[0;36m_apply\u001b[0;34m(self, fn)\u001b[0m\n\u001b[1;32m    352\u001b[0m     \u001b[0;32mdef\u001b[0m \u001b[0m_apply\u001b[0m\u001b[0;34m(\u001b[0m\u001b[0mself\u001b[0m\u001b[0;34m,\u001b[0m \u001b[0mfn\u001b[0m\u001b[0;34m)\u001b[0m\u001b[0;34m:\u001b[0m\u001b[0;34m\u001b[0m\u001b[0;34m\u001b[0m\u001b[0m\n\u001b[1;32m    353\u001b[0m         \u001b[0;32mfor\u001b[0m \u001b[0mmodule\u001b[0m \u001b[0;32min\u001b[0m \u001b[0mself\u001b[0m\u001b[0;34m.\u001b[0m\u001b[0mchildren\u001b[0m\u001b[0;34m(\u001b[0m\u001b[0;34m)\u001b[0m\u001b[0;34m:\u001b[0m\u001b[0;34m\u001b[0m\u001b[0;34m\u001b[0m\u001b[0m\n\u001b[0;32m--> 354\u001b[0;31m             \u001b[0mmodule\u001b[0m\u001b[0;34m.\u001b[0m\u001b[0m_apply\u001b[0m\u001b[0;34m(\u001b[0m\u001b[0mfn\u001b[0m\u001b[0;34m)\u001b[0m\u001b[0;34m\u001b[0m\u001b[0;34m\u001b[0m\u001b[0m\n\u001b[0m\u001b[1;32m    355\u001b[0m \u001b[0;34m\u001b[0m\u001b[0m\n\u001b[1;32m    356\u001b[0m         \u001b[0;32mdef\u001b[0m \u001b[0mcompute_should_use_set_data\u001b[0m\u001b[0;34m(\u001b[0m\u001b[0mtensor\u001b[0m\u001b[0;34m,\u001b[0m \u001b[0mtensor_applied\u001b[0m\u001b[0;34m)\u001b[0m\u001b[0;34m:\u001b[0m\u001b[0;34m\u001b[0m\u001b[0;34m\u001b[0m\u001b[0m\n",
      "\u001b[0;32m~/opt/anaconda3/lib/python3.7/site-packages/torch/nn/modules/module.py\u001b[0m in \u001b[0;36m_apply\u001b[0;34m(self, fn)\u001b[0m\n\u001b[1;32m    374\u001b[0m                 \u001b[0;31m# `with torch.no_grad():`\u001b[0m\u001b[0;34m\u001b[0m\u001b[0;34m\u001b[0m\u001b[0;34m\u001b[0m\u001b[0m\n\u001b[1;32m    375\u001b[0m                 \u001b[0;32mwith\u001b[0m \u001b[0mtorch\u001b[0m\u001b[0;34m.\u001b[0m\u001b[0mno_grad\u001b[0m\u001b[0;34m(\u001b[0m\u001b[0;34m)\u001b[0m\u001b[0;34m:\u001b[0m\u001b[0;34m\u001b[0m\u001b[0;34m\u001b[0m\u001b[0m\n\u001b[0;32m--> 376\u001b[0;31m                     \u001b[0mparam_applied\u001b[0m \u001b[0;34m=\u001b[0m \u001b[0mfn\u001b[0m\u001b[0;34m(\u001b[0m\u001b[0mparam\u001b[0m\u001b[0;34m)\u001b[0m\u001b[0;34m\u001b[0m\u001b[0;34m\u001b[0m\u001b[0m\n\u001b[0m\u001b[1;32m    377\u001b[0m                 \u001b[0mshould_use_set_data\u001b[0m \u001b[0;34m=\u001b[0m \u001b[0mcompute_should_use_set_data\u001b[0m\u001b[0;34m(\u001b[0m\u001b[0mparam\u001b[0m\u001b[0;34m,\u001b[0m \u001b[0mparam_applied\u001b[0m\u001b[0;34m)\u001b[0m\u001b[0;34m\u001b[0m\u001b[0;34m\u001b[0m\u001b[0m\n\u001b[1;32m    378\u001b[0m                 \u001b[0;32mif\u001b[0m \u001b[0mshould_use_set_data\u001b[0m\u001b[0;34m:\u001b[0m\u001b[0;34m\u001b[0m\u001b[0;34m\u001b[0m\u001b[0m\n",
      "\u001b[0;32m~/opt/anaconda3/lib/python3.7/site-packages/torch/nn/modules/module.py\u001b[0m in \u001b[0;36m<lambda>\u001b[0;34m(t)\u001b[0m\n\u001b[1;32m    456\u001b[0m             \u001b[0mModule\u001b[0m\u001b[0;34m:\u001b[0m \u001b[0mself\u001b[0m\u001b[0;34m\u001b[0m\u001b[0;34m\u001b[0m\u001b[0m\n\u001b[1;32m    457\u001b[0m         \"\"\"\n\u001b[0;32m--> 458\u001b[0;31m         \u001b[0;32mreturn\u001b[0m \u001b[0mself\u001b[0m\u001b[0;34m.\u001b[0m\u001b[0m_apply\u001b[0m\u001b[0;34m(\u001b[0m\u001b[0;32mlambda\u001b[0m \u001b[0mt\u001b[0m\u001b[0;34m:\u001b[0m \u001b[0mt\u001b[0m\u001b[0;34m.\u001b[0m\u001b[0mcuda\u001b[0m\u001b[0;34m(\u001b[0m\u001b[0mdevice\u001b[0m\u001b[0;34m)\u001b[0m\u001b[0;34m)\u001b[0m\u001b[0;34m\u001b[0m\u001b[0;34m\u001b[0m\u001b[0m\n\u001b[0m\u001b[1;32m    459\u001b[0m \u001b[0;34m\u001b[0m\u001b[0m\n\u001b[1;32m    460\u001b[0m     \u001b[0;32mdef\u001b[0m \u001b[0mcpu\u001b[0m\u001b[0;34m(\u001b[0m\u001b[0mself\u001b[0m\u001b[0;34m:\u001b[0m \u001b[0mT\u001b[0m\u001b[0;34m)\u001b[0m \u001b[0;34m->\u001b[0m \u001b[0mT\u001b[0m\u001b[0;34m:\u001b[0m\u001b[0;34m\u001b[0m\u001b[0;34m\u001b[0m\u001b[0m\n",
      "\u001b[0;32m~/opt/anaconda3/lib/python3.7/site-packages/torch/cuda/__init__.py\u001b[0m in \u001b[0;36m_lazy_init\u001b[0;34m()\u001b[0m\n\u001b[1;32m    184\u001b[0m             raise RuntimeError(\n\u001b[1;32m    185\u001b[0m                 \"Cannot re-initialize CUDA in forked subprocess. \" + msg)\n\u001b[0;32m--> 186\u001b[0;31m         \u001b[0m_check_driver\u001b[0m\u001b[0;34m(\u001b[0m\u001b[0;34m)\u001b[0m\u001b[0;34m\u001b[0m\u001b[0;34m\u001b[0m\u001b[0m\n\u001b[0m\u001b[1;32m    187\u001b[0m         \u001b[0;32mif\u001b[0m \u001b[0m_cudart\u001b[0m \u001b[0;32mis\u001b[0m \u001b[0;32mNone\u001b[0m\u001b[0;34m:\u001b[0m\u001b[0;34m\u001b[0m\u001b[0;34m\u001b[0m\u001b[0m\n\u001b[1;32m    188\u001b[0m             raise AssertionError(\n",
      "\u001b[0;32m~/opt/anaconda3/lib/python3.7/site-packages/torch/cuda/__init__.py\u001b[0m in \u001b[0;36m_check_driver\u001b[0;34m()\u001b[0m\n\u001b[1;32m     59\u001b[0m \u001b[0;32mdef\u001b[0m \u001b[0m_check_driver\u001b[0m\u001b[0;34m(\u001b[0m\u001b[0;34m)\u001b[0m\u001b[0;34m:\u001b[0m\u001b[0;34m\u001b[0m\u001b[0;34m\u001b[0m\u001b[0m\n\u001b[1;32m     60\u001b[0m     \u001b[0;32mif\u001b[0m \u001b[0;32mnot\u001b[0m \u001b[0mhasattr\u001b[0m\u001b[0;34m(\u001b[0m\u001b[0mtorch\u001b[0m\u001b[0;34m.\u001b[0m\u001b[0m_C\u001b[0m\u001b[0;34m,\u001b[0m \u001b[0;34m'_cuda_isDriverSufficient'\u001b[0m\u001b[0;34m)\u001b[0m\u001b[0;34m:\u001b[0m\u001b[0;34m\u001b[0m\u001b[0;34m\u001b[0m\u001b[0m\n\u001b[0;32m---> 61\u001b[0;31m         \u001b[0;32mraise\u001b[0m \u001b[0mAssertionError\u001b[0m\u001b[0;34m(\u001b[0m\u001b[0;34m\"Torch not compiled with CUDA enabled\"\u001b[0m\u001b[0;34m)\u001b[0m\u001b[0;34m\u001b[0m\u001b[0;34m\u001b[0m\u001b[0m\n\u001b[0m\u001b[1;32m     62\u001b[0m     \u001b[0;32mif\u001b[0m \u001b[0;32mnot\u001b[0m \u001b[0mtorch\u001b[0m\u001b[0;34m.\u001b[0m\u001b[0m_C\u001b[0m\u001b[0;34m.\u001b[0m\u001b[0m_cuda_isDriverSufficient\u001b[0m\u001b[0;34m(\u001b[0m\u001b[0;34m)\u001b[0m\u001b[0;34m:\u001b[0m\u001b[0;34m\u001b[0m\u001b[0;34m\u001b[0m\u001b[0m\n\u001b[1;32m     63\u001b[0m         \u001b[0;32mif\u001b[0m \u001b[0mtorch\u001b[0m\u001b[0;34m.\u001b[0m\u001b[0m_C\u001b[0m\u001b[0;34m.\u001b[0m\u001b[0m_cuda_getDriverVersion\u001b[0m\u001b[0;34m(\u001b[0m\u001b[0;34m)\u001b[0m \u001b[0;34m==\u001b[0m \u001b[0;36m0\u001b[0m\u001b[0;34m:\u001b[0m\u001b[0;34m\u001b[0m\u001b[0;34m\u001b[0m\u001b[0m\n",
      "\u001b[0;31mAssertionError\u001b[0m: Torch not compiled with CUDA enabled"
     ]
    }
   ],
   "source": [
    "### split the dataset using offical splits and take 10% of the training set as the validation set\n",
    "train_id, test_id, val_id = split(0.1)\n",
    "\n",
    "### define the datasets using the splits\n",
    "splits = {'train': train_id, 'test': test_id, 'val': val_id}\n",
    "datasets = {k: CUBDataset(v) for k, v in splits.items()}\n",
    "\n",
    "### define dataloaders from the datasets\n",
    "dataloaders = {k: torch.utils.data.DataLoader(\n",
    "                v, batch_size=32, shuffle=(k=='train'),\n",
    "                num_workers=2, pin_memory=True) for k, v in datasets.items()}\n",
    "\n",
    "model = get_model()\n",
    "\n",
    "optimizer = optim.SGD(model.parameters(), lr=0.01, momentum=0.9)### TODO: SGD here\n",
    "\n",
    "### weights are automatically saved after training\n",
    "pure_epoch_loss, pure_epoch_acc = train(model, dataloaders, optimizer, 'pure.tar')\n",
    "np.savez('pure.npz', epoch_loss=pure_epoch_loss, epoch_acc=pure_epoch_acc)"
   ]
  },
  {
   "cell_type": "markdown",
   "metadata": {
    "id": "yjmk2b7UiGfG"
   },
   "source": [
    "Plot the cruve."
   ]
  },
  {
   "cell_type": "code",
   "execution_count": null,
   "metadata": {
    "id": "rpcQoSoUiGfH"
   },
   "outputs": [],
   "source": [
    "plot(pure_epoch_loss, pure_epoch_acc)"
   ]
  },
  {
   "cell_type": "code",
   "execution_count": null,
   "metadata": {},
   "outputs": [],
   "source": [
    "### if needed, you can also visualize one test sample by the trained model\n",
    "# visualize_model(model, datasets)"
   ]
  },
  {
   "cell_type": "markdown",
   "metadata": {
    "id": "uJG_uU57iGfM"
   },
   "source": [
    "### Summary\n",
    "_Write your report here_"
   ]
  },
  {
   "cell_type": "markdown",
   "metadata": {
    "id": "yW7YwdL7iGfN"
   },
   "source": [
    "## Task4\n",
    "\n",
    "In this tasks, you are required to add L2-regularization to the loss. In pytorch, you can easily implement it by setting one parameter of the optimizer. You need to find the best regularization parameter $\\alpha$ using 3-fold cross-validation. So in this task, you need to impliment your own splits. You can use `KFold` in sci-learn which is already included."
   ]
  },
  {
   "cell_type": "code",
   "execution_count": null,
   "metadata": {
    "id": "bFRozFVpiGfO"
   },
   "outputs": [],
   "source": [
    "### TODO: implement your own split.\n",
    "###       You can use `split(0)` to get the whole training set and testing set first.\n",
    "###       `yield` maybe helpful.\n",
    "###       You can use `KFold` from sklearn.\n",
    "def three_fold_split():\n",
    "    pass\n",
    "\n",
    "alphas = [] # TODO: Define your candidates\n",
    "best_alpha = 0\n",
    "best_acc = 0\n",
    "\n",
    "for alpha in alphas:\n",
    "    avg_acc = 0\n",
    "    \n",
    "    for train_id, test_id, val_id in three_fold_split():\n",
    "        ### define the datasets using the splits. test is uselss here so omitted.\n",
    "        splits = {'train': train_id, 'val': val_id}\n",
    "        datasets = {k: CUBDataset(v) for k, v in splits.items()}\n",
    "\n",
    "        ### define dataloaders from the datasets\n",
    "        dataloaders = {k: torch.utils.data.DataLoader(\n",
    "                        v, batch_size=32, shuffle=(k=='train'),\n",
    "                        num_workers=2, pin_memory=True) for k, v in datasets.items()}\n",
    "\n",
    "        model = get_model()\n",
    "\n",
    "        optimizer = ### TODO: use the alpha\n",
    "\n",
    "        ### quitely train\n",
    "        epoch_loss, epoch_acc = train(model, dataloaders, optimizer, quite=True)\n",
    "        \n",
    "        avg_acc += np.max(epoch_acc['val'])/3\n",
    "\n",
    "    print(f'[alpha={alpha}] avg_acc={avg_acc}')\n",
    "\n",
    "    if best_acc < avg_acc:\n",
    "        best_alpha = alpha\n",
    "        best_acc = avg_acc\n",
    "\n",
    "print(f'best_alpha={best_alpha}')        \n",
    "\n",
    "### After got the best aplpha, train model again over the original splits\n",
    "train_id, test_id, val_id = split(0.1)\n",
    "splits = {'train': train_id, 'test': test_id, 'val': val_id}\n",
    "datasets = {k: CUBDataset(v) for k, v in splits.items()}\n",
    "dataloaders = {k: torch.utils.data.DataLoader(\n",
    "                v, batch_size=32, shuffle=(k=='train'),\n",
    "                num_workers=2, pin_memory=True) for k, v in datasets.items()}\n",
    "model = get_model()\n",
    "\n",
    "optimizer = optim.SGD(model.parameters(), lr=0.01, momentum=0.9) ### TODO: use the best alpha\n",
    "\n",
    "### weights are automatically saved after training\n",
    "l2_epoch_loss, l2_epoch_acc = train(model, dataloaders, optimizer, 'l2.tar')\n",
    "np.savez('l2.npz', epoch_loss=l2_epoch_loss, epoch_acc=l2_epoch_acc)"
   ]
  },
  {
   "cell_type": "markdown",
   "metadata": {
    "id": "ImIzPnhXiGfR"
   },
   "source": [
    "plot the curve"
   ]
  },
  {
   "cell_type": "code",
   "execution_count": null,
   "metadata": {
    "id": "gESCGlksiGfR"
   },
   "outputs": [],
   "source": [
    "plot(l2_epoch_loss, l2_epoch_acc)"
   ]
  },
  {
   "cell_type": "code",
   "execution_count": null,
   "metadata": {},
   "outputs": [],
   "source": [
    "### if needed, you can also visualize one test sample by the trained model\n",
    "# visualize_model(model, datasets)"
   ]
  },
  {
   "cell_type": "markdown",
   "metadata": {
    "id": "i7syKwI-iGfV"
   },
   "source": [
    "### Summary\n",
    "_Write your report here_"
   ]
  },
  {
   "cell_type": "markdown",
   "metadata": {
    "id": "iPaqOAB8iGfW"
   },
   "source": [
    "## Task5\n",
    "\n",
    "In this tasks, you are required to add data agumentation to the dataset. So you have to define your own transformers to the dataset."
   ]
  },
  {
   "cell_type": "code",
   "execution_count": null,
   "metadata": {
    "id": "t9MnTdO-iGfX"
   },
   "outputs": [],
   "source": [
    "train_id, test_id, val_id = split(0.1)\n",
    "\n",
    "def get_transform(split):\n",
    "    if split == 'train':\n",
    "        return transforms.Compose([\n",
    "            ### TODO: do your data augmentation here\n",
    "            ###       you DONT have to resize and normalize the image\n",
    "        ])\n",
    "    else:\n",
    "        return None\n",
    "\n",
    "splits = {'train': train_id, 'test': test_id, 'val': val_id}\n",
    "datasets = {k: CUBDataset(v, transform=get_transform(k)) for k, v in splits.items()}\n",
    "\n",
    "### define dataloaders from the datasets\n",
    "dataloaders = {k: torch.utils.data.DataLoader(\n",
    "                v, batch_size=32, shuffle=(k=='train'),\n",
    "                num_workers=2, pin_memory=True) for k, v in datasets.items()}\n",
    "\n",
    "model = get_model()\n",
    "\n",
    "optimizer = optim.SGD(model.parameters(), lr=0.01, momentum=0.9) ### TODO\n",
    "\n",
    "### weights are automatically saved after training\n",
    "aug_epoch_loss, aug_epoch_acc = train(model, dataloaders, optimizer, 'augment.tar')\n",
    "np.savez('augment.npz', epoch_loss=aug_epoch_loss, epoch_acc=aug_epoch_loss)"
   ]
  },
  {
   "cell_type": "markdown",
   "metadata": {
    "id": "mj_Bku7XiGfa"
   },
   "source": [
    "plot the curve"
   ]
  },
  {
   "cell_type": "code",
   "execution_count": null,
   "metadata": {
    "id": "PZkINJnaiGfa"
   },
   "outputs": [],
   "source": [
    "plot(aug_epoch_loss, aug_epoch_acc)"
   ]
  },
  {
   "cell_type": "code",
   "execution_count": null,
   "metadata": {},
   "outputs": [],
   "source": [
    "### if needed, you can also visualize one test sample by the trained model\n",
    "# visualize_model(model, datasets)"
   ]
  },
  {
   "cell_type": "markdown",
   "metadata": {
    "id": "QbkLFdUsiGfc"
   },
   "source": [
    "### Summary\n",
    "_Write your report here_"
   ]
  }
 ],
 "metadata": {
  "accelerator": "GPU",
  "colab": {
   "collapsed_sections": [],
   "name": "P1.ipynb",
   "provenance": [],
   "toc_visible": true
  },
  "kernelspec": {
   "display_name": "Python 3",
   "language": "python",
   "name": "python3"
  },
  "language_info": {
   "codemirror_mode": {
    "name": "ipython",
    "version": 3
   },
   "file_extension": ".py",
   "mimetype": "text/x-python",
   "name": "python",
   "nbconvert_exporter": "python",
   "pygments_lexer": "ipython3",
   "version": "3.7.6"
  }
 },
 "nbformat": 4,
 "nbformat_minor": 1
}
